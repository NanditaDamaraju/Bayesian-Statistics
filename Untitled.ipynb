{
 "cells": [
  {
   "cell_type": "code",
   "execution_count": 1,
   "metadata": {
    "collapsed": false
   },
   "outputs": [
    {
     "name": "stdout",
     "output_type": "stream",
     "text": [
      "Applied log-transform to sib_mean and added transformed sib_mean_log to model.\n",
      "Applied logodds-transform to p_disab and added transformed p_disab_logodds to model.\n",
      "Applied logodds-transform to p_mother and added transformed p_mother_logodds to model.\n",
      "Applied log-transform to s and added transformed s_log to model.\n",
      " [-----------------100%-----------------] 5000 of 5000 complete in 29.0 sec"
     ]
    }
   ],
   "source": [
    "from pymc3 import *\n",
    "import numpy as np\n",
    "import pandas as pd\n",
    "from numpy.ma import masked_values\n",
    "\n",
    "# Import data, filling missing values with sentinels (-999)\n",
    "test_scores = pd.read_csv('test_scores.csv').fillna(-999)\n",
    "\n",
    "# Extract variables: test score, gender, number of siblings, previous disability, age, \n",
    "# mother with HS education or better, hearing loss identified by 3 months of age\n",
    "(score, male, siblings, disability, \n",
    "    age, mother_hs, early_ident) = test_scores[['score', 'male', 'siblings', \n",
    "                                                'prev_disab', 'age_test',\n",
    "                                                'mother_hs', 'early_ident']].astype(float).values.T\n",
    "\n",
    "with Model() as model:\n",
    "\n",
    "    # Impute missing values\n",
    "    sib_mean = Exponential('sib_mean', 1)\n",
    "    siblings_imp = Poisson('siblings_imp', sib_mean, observed=masked_values(siblings, value=-999))\n",
    "\n",
    "    p_disab = Beta('p_disab', 1, 1)\n",
    "    disability_imp = Bernoulli('disability_imp', p_disab, observed=masked_values(disability, value=-999))\n",
    "\n",
    "    p_mother = Beta('p_mother', 1, 1)\n",
    "    mother_imp = Bernoulli('mother_imp', p_mother, observed=masked_values(mother_hs, value=-999))\n",
    "\n",
    "    s = HalfCauchy('s', 5, testval=5)\n",
    "    beta = Laplace('beta', 0, 100, shape=7, testval=.1)\n",
    "\n",
    "    expected_score = (beta[0] + beta[1]*male + beta[2]*siblings_imp + beta[3]*disability_imp + \n",
    "        beta[4]*age + beta[5]*mother_imp + beta[6]*early_ident)\n",
    "\n",
    "    observed_score = Normal('observed_score', expected_score, s ** -2, observed=score)\n",
    "\n",
    "\n",
    "with model:\n",
    "    start = find_MAP()\n",
    "    step1 = NUTS([beta, s, p_disab, p_mother, sib_mean], scaling=start)\n",
    "\n",
    "    step2 = Metropolis([mother_imp.missing_values, \n",
    "                        disability_imp.missing_values,\n",
    "                        siblings_imp.missing_values])\n",
    "\n",
    "def run(n=5000):\n",
    "    if n == 'short':\n",
    "        n = 100\n",
    "    with model:\n",
    "        trace = sample(n, [step1, step2], start)\n",
    "\n",
    "\n",
    "if __name__ == '__main__':\n",
    "    run()"
   ]
  },
  {
   "cell_type": "code",
   "execution_count": null,
   "metadata": {
    "collapsed": true
   },
   "outputs": [],
   "source": []
  }
 ],
 "metadata": {
  "kernelspec": {
   "display_name": "Python 2",
   "language": "python",
   "name": "python2"
  },
  "language_info": {
   "codemirror_mode": {
    "name": "ipython",
    "version": 2
   },
   "file_extension": ".py",
   "mimetype": "text/x-python",
   "name": "python",
   "nbconvert_exporter": "python",
   "pygments_lexer": "ipython2",
   "version": "2.7.11"
  }
 },
 "nbformat": 4,
 "nbformat_minor": 0
}
